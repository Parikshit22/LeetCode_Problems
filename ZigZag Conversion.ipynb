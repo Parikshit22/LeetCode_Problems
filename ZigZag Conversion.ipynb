{
 "cells": [
  {
   "cell_type": "code",
   "execution_count": 6,
   "metadata": {},
   "outputs": [],
   "source": [
    "s = \"PAYPALISHIRING\"\n",
    "numRows = 3\n",
    "\n",
    "n = len(s)\n",
    "dic = {}\n",
    "for i in range(numRows):\n",
    "    dic[i] = []\n",
    "row = 0\n",
    "for i in range(len(s)):\n",
    "    dic[row].append(s[i])\n",
    "    if row ==0:\n",
    "        step = 1\n",
    "    elif row == numRows-1:\n",
    "        step = -1\n",
    "    row += step\n",
    "\n",
    "result = ''\n",
    "for i in dic:\n",
    "    for j in dic[i]:\n",
    "        result+=j\n",
    "    \n",
    "    \n",
    "    "
   ]
  },
  {
   "cell_type": "code",
   "execution_count": 7,
   "metadata": {},
   "outputs": [
    {
     "data": {
      "text/plain": [
       "'PAHNAPLSIIGYIR'"
      ]
     },
     "execution_count": 7,
     "metadata": {},
     "output_type": "execute_result"
    }
   ],
   "source": [
    "result"
   ]
  },
  {
   "cell_type": "code",
   "execution_count": null,
   "metadata": {},
   "outputs": [],
   "source": []
  }
 ],
 "metadata": {
  "kernelspec": {
   "display_name": "Python 3",
   "language": "python",
   "name": "python3"
  },
  "language_info": {
   "codemirror_mode": {
    "name": "ipython",
    "version": 3
   },
   "file_extension": ".py",
   "mimetype": "text/x-python",
   "name": "python",
   "nbconvert_exporter": "python",
   "pygments_lexer": "ipython3",
   "version": "3.6.8"
  }
 },
 "nbformat": 4,
 "nbformat_minor": 2
}
