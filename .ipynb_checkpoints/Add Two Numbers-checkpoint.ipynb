{
 "cells": [
  {
   "cell_type": "code",
   "execution_count": 10,
   "metadata": {},
   "outputs": [],
   "source": [
    "class Node:\n",
    "    def __init__(self,data):\n",
    "        self.val = data\n",
    "        self.next = None\n",
    "        \n",
    "class LinkedList:\n",
    "    def __init__(self):\n",
    "        self.head = None\n",
    "        \n",
    "    def insert_helper(self,head,arr):\n",
    "        val = arr[0]\n",
    "        arr = arr[1:]\n",
    "        if val==-1:\n",
    "            return None\n",
    "        head = Node(val)\n",
    "        head.next = self.insert_helper(head.next,arr)\n",
    "        return head\n",
    "    \n",
    "    def insert(self,arr):\n",
    "        if arr[0]!=-1:\n",
    "            self.head = Node(arr[0])\n",
    "        self.head.next = self.insert_helper(self.head,arr[1:])\n",
    "        return head\n",
    "        \n",
    "    def print_node(self,head):\n",
    "        ptr = self.head\n",
    "        while ptr is not None:\n",
    "            print(ptr.val)\n",
    "            ptr = ptr.next"
   ]
  },
  {
   "cell_type": "code",
   "execution_count": 38,
   "metadata": {},
   "outputs": [],
   "source": [
    "l1 = LinkedList()\n",
    "h1 = l1.insert([2,4,3,-1])\n",
    "l2 = LinkedList()\n",
    "h2 = l2.insert([5,6,4,-1])\n"
   ]
  },
  {
   "cell_type": "code",
   "execution_count": null,
   "metadata": {},
   "outputs": [],
   "source": []
  },
  {
   "cell_type": "code",
   "execution_count": 29,
   "metadata": {},
   "outputs": [],
   "source": [
    "ll = Node(0)\n",
    "\n",
    "carry= 0\n",
    "while (h1 is not None) or (h2 is not None):\n",
    "    if h1 is None:\n",
    "        h1_val = 0\n",
    "    else:\n",
    "        h1_val = h1.val\n",
    "    if h2 is None:\n",
    "        h2_val = 0\n",
    "    else:\n",
    "        h2_val = h2.val\n",
    "    value = h1_val+h2_val+carry\n",
    "    carry = value//10\n",
    "    value = value%10\n",
    "    ll.next = Node(value)\n",
    "    ll = ll.next\n",
    "    if h2 is not None:\n",
    "        h2 = h2.next\n",
    "    if h1 is not None:\n",
    "        h1 = h1.next\n",
    "if carry>0:\n",
    "    ll.next = Node(carry)\n",
    "    ll = ll.next\n",
    "ll = ll.next\n",
    "    \n",
    "\n",
    "    "
   ]
  },
  {
   "cell_type": "code",
   "execution_count": 32,
   "metadata": {},
   "outputs": [],
   "source": [
    "ll"
   ]
  },
  {
   "cell_type": "code",
   "execution_count": 30,
   "metadata": {},
   "outputs": [],
   "source": [
    "\n",
    "def print_nod(head):\n",
    "    ptr = head\n",
    "    while ptr is not None:\n",
    "        print(ptr.val)\n",
    "        ptr = ptr.next"
   ]
  },
  {
   "cell_type": "code",
   "execution_count": 36,
   "metadata": {},
   "outputs": [],
   "source": [
    "print_nod(h1)"
   ]
  },
  {
   "cell_type": "code",
   "execution_count": null,
   "metadata": {},
   "outputs": [],
   "source": []
  }
 ],
 "metadata": {
  "kernelspec": {
   "display_name": "Python 3",
   "language": "python",
   "name": "python3"
  },
  "language_info": {
   "codemirror_mode": {
    "name": "ipython",
    "version": 3
   },
   "file_extension": ".py",
   "mimetype": "text/x-python",
   "name": "python",
   "nbconvert_exporter": "python",
   "pygments_lexer": "ipython3",
   "version": "3.6.8"
  }
 },
 "nbformat": 4,
 "nbformat_minor": 2
}
