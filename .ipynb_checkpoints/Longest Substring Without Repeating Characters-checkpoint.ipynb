{
 "cells": [
  {
   "cell_type": "code",
   "execution_count": 13,
   "metadata": {},
   "outputs": [
    {
     "name": "stdout",
     "output_type": "stream",
     "text": [
      "3\n"
     ]
    }
   ],
   "source": [
    "s = \"pwwkew\"\n",
    "\n",
    "\n",
    "\n",
    "max_count = 0\n",
    "for i in range(len(s)):\n",
    "    dic = {}\n",
    "    count = 0\n",
    "    for j in range(i,len(s)):\n",
    "        if s[j] in dic:\n",
    "            max_count = max(max_count,count)\n",
    "            break\n",
    "        else:\n",
    "            dic[s[j]] = 1\n",
    "            count+=1\n",
    "    max_count = max(max_count,count)\n",
    "\n",
    "print(max_count)\n",
    "        \n",
    "        \n",
    "    "
   ]
  },
  {
   "cell_type": "code",
   "execution_count": null,
   "metadata": {},
   "outputs": [],
   "source": []
  }
 ],
 "metadata": {
  "kernelspec": {
   "display_name": "Python 3",
   "language": "python",
   "name": "python3"
  },
  "language_info": {
   "codemirror_mode": {
    "name": "ipython",
    "version": 3
   },
   "file_extension": ".py",
   "mimetype": "text/x-python",
   "name": "python",
   "nbconvert_exporter": "python",
   "pygments_lexer": "ipython3",
   "version": "3.6.8"
  }
 },
 "nbformat": 4,
 "nbformat_minor": 2
}
