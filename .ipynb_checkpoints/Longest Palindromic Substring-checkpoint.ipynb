{
 "cells": [
  {
   "cell_type": "code",
   "execution_count": 17,
   "metadata": {},
   "outputs": [
    {
     "data": {
      "text/plain": [
       "'abcba'"
      ]
     },
     "execution_count": 17,
     "metadata": {},
     "output_type": "execute_result"
    }
   ],
   "source": [
    "s = \"abcba\"\n",
    "\n",
    "n = len(s)\n",
    "dp = [[0 for i in range(n)] for j in range(n)]\n",
    "for i in range(n):\n",
    "    dp[i][i] = 1\n",
    "max_value = (0,0)\n",
    "for i in range(n-1):\n",
    "    if s[i] == s[i+1]:\n",
    "        dp[i][i+1] = 1\n",
    "        max_value = (i,i+1)\n",
    "\n",
    "\n",
    "for i in range(0,n-2):\n",
    "    k = 0\n",
    "    for j in range(i+2,n):\n",
    "        if s[k]==s[j]:\n",
    "            \n",
    "            if dp[k+1][j-1]==1:\n",
    "                dp[k][j]=1\n",
    "                if abs(max_value[0]-max_value[1])<abs(k-j):\n",
    "                    max_value = (k,j)\n",
    "        k+=1\n",
    "s[max_value[0]:max_value[1]+1]\n",
    "        "
   ]
  },
  {
   "cell_type": "code",
   "execution_count": null,
   "metadata": {},
   "outputs": [],
   "source": []
  }
 ],
 "metadata": {
  "kernelspec": {
   "display_name": "Python 3",
   "language": "python",
   "name": "python3"
  },
  "language_info": {
   "codemirror_mode": {
    "name": "ipython",
    "version": 3
   },
   "file_extension": ".py",
   "mimetype": "text/x-python",
   "name": "python",
   "nbconvert_exporter": "python",
   "pygments_lexer": "ipython3",
   "version": "3.6.8"
  }
 },
 "nbformat": 4,
 "nbformat_minor": 2
}
