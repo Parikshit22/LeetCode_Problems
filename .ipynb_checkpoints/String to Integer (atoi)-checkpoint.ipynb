{
 "cells": [
  {
   "cell_type": "code",
   "execution_count": 53,
   "metadata": {},
   "outputs": [
    {
     "data": {
      "text/plain": [
       "234"
      ]
     },
     "execution_count": 53,
     "metadata": {},
     "output_type": "execute_result"
    }
   ],
   "source": [
    "str = \"-   234\"\n",
    "def check(str):\n",
    "    \n",
    "    str = str.strip()\n",
    "    if len(str)==0:\n",
    "        return 0\n",
    "    str = str.split[0]\n",
    "\n",
    "    if (str[0]!='-') and (str[0]!='+') and (ord(str[0])-ord('0') not in [x for x in range(10)]):\n",
    "        return 0\n",
    "    s = re.search(\"[-+]?(\\d+|\\d+\\.\\d+)\",str)\n",
    "    if s:\n",
    "        s = s[0]\n",
    "    else:\n",
    "        s = \"\"\n",
    "    if len(s)==0:\n",
    "        return 0\n",
    "    s = s.lstrip()\n",
    "    if s[0]=='+':\n",
    "        s = s[1:]\n",
    "    s = int(float(s))\n",
    "    if s>2**31-1:\n",
    "        return 2**31-1\n",
    "    elif s<-(2**31):\n",
    "        return -(2**31)\n",
    "    else:\n",
    "        return int(s)\n",
    "check(str)        \n",
    "    \n",
    "\n",
    "\n",
    "\n",
    "\n",
    "\n"
   ]
  },
  {
   "cell_type": "code",
   "execution_count": 58,
   "metadata": {},
   "outputs": [
    {
     "data": {
      "text/plain": [
       "'fgr rgg rtheh yjtej'"
      ]
     },
     "execution_count": 58,
     "metadata": {},
     "output_type": "execute_result"
    }
   ],
   "source": [
    "ab = \"   fgr rgg rtheh yjtej   \"\n",
    "ab.strip()"
   ]
  },
  {
   "cell_type": "code",
   "execution_count": 24,
   "metadata": {},
   "outputs": [
    {
     "data": {
      "text/plain": [
       "'91283472332'"
      ]
     },
     "execution_count": 24,
     "metadata": {},
     "output_type": "execute_result"
    }
   ],
   "source": [
    "import re\n",
    "re.search(\"[-+]?\\d+ \",\"91283472332\")[0]"
   ]
  },
  {
   "cell_type": "code",
   "execution_count": 3,
   "metadata": {},
   "outputs": [
    {
     "data": {
      "text/plain": [
       "'4193 with words'"
      ]
     },
     "execution_count": 3,
     "metadata": {},
     "output_type": "execute_result"
    }
   ],
   "source": [
    "str"
   ]
  },
  {
   "cell_type": "code",
   "execution_count": 4,
   "metadata": {},
   "outputs": [
    {
     "data": {
      "text/plain": [
       "2147483647"
      ]
     },
     "execution_count": 4,
     "metadata": {},
     "output_type": "execute_result"
    }
   ],
   "source": [
    "2**31-1"
   ]
  },
  {
   "cell_type": "code",
   "execution_count": 13,
   "metadata": {},
   "outputs": [
    {
     "data": {
      "text/plain": [
       "True"
      ]
     },
     "execution_count": 13,
     "metadata": {},
     "output_type": "execute_result"
    }
   ],
   "source": [
    "ord('3')-ord('0') in [x for x in range(10)]"
   ]
  },
  {
   "cell_type": "code",
   "execution_count": null,
   "metadata": {},
   "outputs": [],
   "source": []
  }
 ],
 "metadata": {
  "kernelspec": {
   "display_name": "Python 3",
   "language": "python",
   "name": "python3"
  },
  "language_info": {
   "codemirror_mode": {
    "name": "ipython",
    "version": 3
   },
   "file_extension": ".py",
   "mimetype": "text/x-python",
   "name": "python",
   "nbconvert_exporter": "python",
   "pygments_lexer": "ipython3",
   "version": "3.6.8"
  }
 },
 "nbformat": 4,
 "nbformat_minor": 2
}
